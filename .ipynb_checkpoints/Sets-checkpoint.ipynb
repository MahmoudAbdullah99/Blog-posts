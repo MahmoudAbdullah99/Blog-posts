{
 "cells": [
  {
   "cell_type": "code",
   "execution_count": 1,
   "metadata": {},
   "outputs": [
    {
     "name": "stdout",
     "output_type": "stream",
     "text": [
      "{'Dylan', True, 26, 167.6}\n"
     ]
    }
   ],
   "source": [
    "example_set = {'Dylan', 26, 167.6, True}\n",
    "print(example_set)"
   ]
  },
  {
   "cell_type": "code",
   "execution_count": 2,
   "metadata": {},
   "outputs": [
    {
     "name": "stdout",
     "output_type": "stream",
     "text": [
      "{'Dylan', True, 26, 167.6}\n",
      "Dylan\n",
      "{True, 26, 167.6}\n"
     ]
    }
   ],
   "source": [
    "print(example_set)\n",
    "print(example_set.pop())\n",
    "print(example_set)"
   ]
  },
  {
   "cell_type": "code",
   "execution_count": 3,
   "metadata": {},
   "outputs": [
    {
     "name": "stdout",
     "output_type": "stream",
     "text": [
      "{True, 'True', 167.6, 26}\n",
      "{True, 58.1, 'brown', 'True', 167.6, 26}\n"
     ]
    }
   ],
   "source": [
    "example_set.add('True')\n",
    "print(example_set)\n",
    "example_set.update([58.1, 'brown'])\n",
    "print(example_set)"
   ]
  },
  {
   "cell_type": "code",
   "execution_count": 4,
   "metadata": {},
   "outputs": [],
   "source": [
    "piles = [2.83, 8.23, 9.38, 10.23, 25.58, 0.42, 5.37, 28.10, 32.14, 7.31]"
   ]
  },
  {
   "cell_type": "code",
   "execution_count": 5,
   "metadata": {},
   "outputs": [],
   "source": [
    "def hash_function(x):\n",
    "    return int(x*100 % 31)"
   ]
  },
  {
   "cell_type": "code",
   "execution_count": 6,
   "metadata": {},
   "outputs": [
    {
     "data": {
      "text/plain": [
       "[4, 17, 8, 0, 16, 11, 10, 20, 21, 18]"
      ]
     },
     "execution_count": 6,
     "metadata": {},
     "output_type": "execute_result"
    }
   ],
   "source": [
    "[hash_function(pile) for pile in piles]"
   ]
  },
  {
   "cell_type": "code",
   "execution_count": 7,
   "metadata": {},
   "outputs": [
    {
     "name": "stdout",
     "output_type": "stream",
     "text": [
      "10\n"
     ]
    }
   ],
   "source": [
    "print(int(5.37 * 100 % 31))"
   ]
  },
  {
   "cell_type": "code",
   "execution_count": 8,
   "metadata": {},
   "outputs": [
    {
     "name": "stdout",
     "output_type": "stream",
     "text": [
      "{609, 5, 10, 82, 340, 23, 348}\n",
      "{'q', 'd', 'c', 'a', 'b', 'r'}\n"
     ]
    }
   ],
   "source": [
    "print(set([23, 609, 348, 10, 5, 23, 340, 82]))\n",
    "print(set(('a', 'b', 'q', 'c', 'c', 'd', 'r', 'a')))"
   ]
  },
  {
   "cell_type": "code",
   "execution_count": 9,
   "metadata": {},
   "outputs": [
    {
     "name": "stdout",
     "output_type": "stream",
     "text": [
      "{'biology', 'english'}\n",
      "{'mathematics', 'history', 'biology', 'theater', 'english', 'computer science'}\n",
      "{'history', 'theater'}\n",
      "{'computer science', 'mathematics'}\n",
      "{'mathematics', 'history', 'theater', 'computer science'}\n"
     ]
    }
   ],
   "source": [
    "student_a_courses = {'history', 'english', 'biology', 'theater'}\n",
    "student_b_courses = {'biology', 'english', 'mathematics', 'computer science'}\n",
    "\n",
    "print(student_a_courses.intersection(student_b_courses))\n",
    "print(student_a_courses.union(student_b_courses))\n",
    "print(student_a_courses.difference(student_b_courses))\n",
    "print(student_b_courses.difference(student_a_courses))\n",
    "print(student_a_courses.symmetric_difference(student_b_courses))"
   ]
  }
 ],
 "metadata": {
  "kernelspec": {
   "display_name": "Python 3 (ipykernel)",
   "language": "python",
   "name": "python3"
  },
  "language_info": {
   "codemirror_mode": {
    "name": "ipython",
    "version": 3
   },
   "file_extension": ".py",
   "mimetype": "text/x-python",
   "name": "python",
   "nbconvert_exporter": "python",
   "pygments_lexer": "ipython3",
   "version": "3.8.10"
  },
  "nbclean": true
 },
 "nbformat": 4,
 "nbformat_minor": 1
}
